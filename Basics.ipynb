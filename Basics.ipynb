{
 "cells": [
  {
   "cell_type": "code",
   "execution_count": 1,
   "metadata": {
    "collapsed": false
   },
   "outputs": [],
   "source": [
    "import csv\n",
    "openfile= open('hacker_news.csv')\n",
    "hn= csv.reader(openfile)\n",
    "hn = list(hn)\n",
    "header = hn[0]\n",
    "hn = hn[1:]"
   ]
  },
  {
   "cell_type": "code",
   "execution_count": 2,
   "metadata": {
    "collapsed": false
   },
   "outputs": [
    {
     "data": {
      "text/plain": [
       "['id', 'title', 'url', 'num_points', 'num_comments', 'author', 'created_at']"
      ]
     },
     "execution_count": 2,
     "metadata": {},
     "output_type": "execute_result"
    }
   ],
   "source": [
    "header    "
   ]
  },
  {
   "cell_type": "code",
   "execution_count": 3,
   "metadata": {
    "collapsed": false
   },
   "outputs": [
    {
     "name": "stdout",
     "output_type": "stream",
     "text": [
      "1744 1162 17194\n"
     ]
    }
   ],
   "source": [
    "other_posts = []\n",
    "ask_posts = []\n",
    "show_posts = []\n",
    "for row in hn:\n",
    "    title = row[1]\n",
    "    title = title.lower()\n",
    "    if title.startswith('ask hn'):\n",
    "        ask_posts.append(row)\n",
    "    elif title.startswith('show hn'):\n",
    "        show_posts.append(row)\n",
    "    else:\n",
    "        other_posts.append(row)\n",
    "ask_number = len(ask_posts)\n",
    "show_number = len(show_posts)\n",
    "other_number = len(other_posts)\n",
    "print(ask_number,show_number,other_number)"
   ]
  },
  {
   "cell_type": "code",
   "execution_count": 4,
   "metadata": {
    "collapsed": false
   },
   "outputs": [],
   "source": [
    "#to allow us to calculate the average easier\n",
    "from numpy import mean"
   ]
  },
  {
   "cell_type": "code",
   "execution_count": 5,
   "metadata": {
    "collapsed": false
   },
   "outputs": [
    {
     "name": "stdout",
     "output_type": "stream",
     "text": [
      "10.31669535283993\n",
      "14.038417431192661\n"
     ]
    }
   ],
   "source": [
    "total_ask_comments = 0\n",
    "avg_ask_comments = 0\n",
    "avg_show_comments = 0\n",
    "total_show_comments = 0\n",
    "list_show_comments = []\n",
    "list_ask_comments = []\n",
    "\n",
    "for row in ask_posts:\n",
    "    ComNum = int(row[4])\n",
    "    list_ask_comments.append(ComNum)\n",
    "for row in show_posts:\n",
    "    ComNum = int(row[4])\n",
    "    list_show_comments.append(ComNum)\n",
    "total_ask_comments = sum(list_ask_comments)\n",
    "total_show_comments = sum(list_show_comments)\n",
    "avg_ask_comments = mean(list_ask_comments)\n",
    "avg_show_comments = mean(list_show_comments)\n",
    "print(avg_show_comments)\n",
    "print(avg_ask_comments)"
   ]
  },
  {
   "cell_type": "markdown",
   "metadata": {},
   "source": [
    "#### we can see that , we need to learn how to use markdown"
   ]
  },
  {
   "cell_type": "code",
   "execution_count": 6,
   "metadata": {
    "collapsed": false
   },
   "outputs": [
    {
     "data": {
      "text/plain": [
       "['10975351',\n",
       " 'How to Use Open Source and Shut the Fuck Up at the Same Time',\n",
       " 'http://hueniverse.com/2016/01/26/how-to-use-open-source-and-shut-the-fuck-up-at-the-same-time/',\n",
       " '39',\n",
       " '10',\n",
       " 'josep2',\n",
       " '1/26/2016 19:30']"
      ]
     },
     "execution_count": 6,
     "metadata": {},
     "output_type": "execute_result"
    }
   ],
   "source": [
    "hn[1]"
   ]
  },
  {
   "cell_type": "code",
   "execution_count": 7,
   "metadata": {
    "collapsed": true
   },
   "outputs": [],
   "source": [
    "import datetime as dt"
   ]
  },
  {
   "cell_type": "code",
   "execution_count": 8,
   "metadata": {
    "collapsed": false
   },
   "outputs": [],
   "source": [
    "result_list = []\n",
    "for row in ask_posts:\n",
    "    first = row[6]\n",
    "    second = row[4]\n",
    "    element_list = [first,second]\n",
    "    result_list.append(element_list)\n",
    "    "
   ]
  },
  {
   "cell_type": "code",
   "execution_count": 9,
   "metadata": {
    "collapsed": false
   },
   "outputs": [
    {
     "data": {
      "text/plain": [
       "[['8/16/2016 9:55', '6'], ['11/22/2015 13:43', '29'], ['5/2/2016 10:14', '1']]"
      ]
     },
     "execution_count": 9,
     "metadata": {},
     "output_type": "execute_result"
    }
   ],
   "source": [
    "result_list[0:3]"
   ]
  },
  {
   "cell_type": "code",
   "execution_count": 10,
   "metadata": {
    "collapsed": false
   },
   "outputs": [],
   "source": [
    "counts_by_hour = {}\n",
    "comments_by_hour = {}\n",
    "for row in result_list:\n",
    "    date = row[0]\n",
    "    date = dt.datetime.strptime(date,'%m/%d/%Y %H:%M')\n",
    "   \n",
    "    Hour = dt.datetime.strftime(date,\"%H\")\n",
    "   \n",
    "    comments = int(row[1])\n",
    "    if Hour not in counts_by_hour:\n",
    "        counts_by_hour[Hour] = 1\n",
    "        comments_by_hour[Hour] =  comments\n",
    "    else:\n",
    "        counts_by_hour[Hour] += 1\n",
    "        comments_by_hour[Hour] += comments\n",
    "    \n",
    "    \n"
   ]
  },
  {
   "cell_type": "code",
   "execution_count": 11,
   "metadata": {
    "collapsed": false
   },
   "outputs": [
    {
     "data": {
      "text/plain": [
       "{'00': 55,\n",
       " '01': 60,\n",
       " '02': 58,\n",
       " '03': 54,\n",
       " '04': 47,\n",
       " '05': 46,\n",
       " '06': 44,\n",
       " '07': 34,\n",
       " '08': 48,\n",
       " '09': 45,\n",
       " '10': 59,\n",
       " '11': 58,\n",
       " '12': 73,\n",
       " '13': 85,\n",
       " '14': 107,\n",
       " '15': 116,\n",
       " '16': 108,\n",
       " '17': 100,\n",
       " '18': 109,\n",
       " '19': 110,\n",
       " '20': 80,\n",
       " '21': 109,\n",
       " '22': 71,\n",
       " '23': 68}"
      ]
     },
     "execution_count": 11,
     "metadata": {},
     "output_type": "execute_result"
    }
   ],
   "source": [
    "counts_by_hour\n",
    "\n",
    "    "
   ]
  },
  {
   "cell_type": "code",
   "execution_count": 12,
   "metadata": {
    "collapsed": false
   },
   "outputs": [
    {
     "name": "stdout",
     "output_type": "stream",
     "text": [
      "[[6, 9], [16, 17], [20, 22], [17, 11], [12, 9], [22, 7], [10, 13], [5, 10], [8, 10], [1, 11], [23, 8], [13, 15], [11, 11], [9, 6], [0, 8], [15, 39], [4, 7], [21, 16], [2, 24], [18, 13], [19, 11], [3, 8], [14, 13], [7, 8]]\n"
     ]
    }
   ],
   "source": [
    "avg_list = []\n",
    "for key in counts_by_hour:\n",
    "    avg = round(comments_by_hour[key]/counts_by_hour[key])\n",
    "    key = int(key)\n",
    "    avg_list.append([key,avg])\n",
    "print(avg_list)"
   ]
  },
  {
   "cell_type": "code",
   "execution_count": 13,
   "metadata": {
    "collapsed": false
   },
   "outputs": [
    {
     "name": "stdout",
     "output_type": "stream",
     "text": [
      "[[9, 6], [17, 16], [22, 20], [11, 17], [9, 12], [7, 22], [13, 10], [10, 5], [10, 8], [11, 1], [8, 23], [15, 13], [11, 11], [6, 9], [8, 0], [39, 15], [7, 4], [16, 21], [24, 2], [13, 18], [11, 19], [8, 3], [13, 14], [8, 7]]\n"
     ]
    }
   ],
   "source": [
    "swap_avg_list = []\n",
    "for hour in avg_list:\n",
    "    swap_avg_list.append([hour[1],hour[0]])\n",
    "print(swap_avg_list)"
   ]
  },
  {
   "cell_type": "code",
   "execution_count": 16,
   "metadata": {
    "collapsed": false
   },
   "outputs": [],
   "source": [
    "sorted_swap = sorted(swap_avg_list,reverse = True)\n",
    "    "
   ]
  },
  {
   "cell_type": "code",
   "execution_count": 17,
   "metadata": {
    "collapsed": false
   },
   "outputs": [
    {
     "name": "stdout",
     "output_type": "stream",
     "text": [
      "[[39, 15], [24, 2], [22, 20], [17, 16], [16, 21]]\n"
     ]
    }
   ],
   "source": [
    "print(sorted_swap[:5])"
   ]
  },
  {
   "cell_type": "code",
   "execution_count": 24,
   "metadata": {
    "collapsed": false
   },
   "outputs": [
    {
     "name": "stdout",
     "output_type": "stream",
     "text": [
      "15:00: 39.00 average comments per post\n",
      "02:00: 24.00 average comments per post\n",
      "20:00: 22.00 average comments per post\n",
      "16:00: 17.00 average comments per post\n",
      "21:00: 16.00 average comments per post\n"
     ]
    }
   ],
   "source": [
    "for row in sorted_swap[:5]:\n",
    "    Time = str(row[1])\n",
    "    Time = dt.datetime.strptime(Time,\"%H\")\n",
    "    Time = dt.datetime.strftime(Time,\"%H:%M\")\n",
    "    print(\"{Time}: {Com:.2f} average comments per post\".format(Time= Time, Com =row[0]))\n",
    "    "
   ]
  },
  {
   "cell_type": "markdown",
   "metadata": {},
   "source": [
    "##### So you should write a post at 15 and 2:00 to recieve a lot of comments"
   ]
  },
  {
   "cell_type": "code",
   "execution_count": null,
   "metadata": {
    "collapsed": true
   },
   "outputs": [],
   "source": []
  }
 ],
 "metadata": {
  "kernelspec": {
   "display_name": "Python 3",
   "language": "python",
   "name": "python3"
  },
  "language_info": {
   "codemirror_mode": {
    "name": "ipython",
    "version": 3
   },
   "file_extension": ".py",
   "mimetype": "text/x-python",
   "name": "python",
   "nbconvert_exporter": "python",
   "pygments_lexer": "ipython3",
   "version": "3.4.3"
  }
 },
 "nbformat": 4,
 "nbformat_minor": 2
}
